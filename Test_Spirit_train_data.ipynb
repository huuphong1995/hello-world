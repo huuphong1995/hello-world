{
  "nbformat": 4,
  "nbformat_minor": 0,
  "metadata": {
    "colab": {
      "provenance": [],
      "authorship_tag": "ABX9TyNkWYWq3t3qmStfTD+DANOE",
      "include_colab_link": true
    },
    "kernelspec": {
      "name": "python3",
      "display_name": "Python 3"
    },
    "language_info": {
      "name": "python"
    }
  },
  "cells": [
    {
      "cell_type": "markdown",
      "metadata": {
        "id": "view-in-github",
        "colab_type": "text"
      },
      "source": [
        "<a href=\"https://colab.research.google.com/github/huuphong1995/hello-world/blob/master/Test_Spirit_train_data.ipynb\" target=\"_parent\"><img src=\"https://colab.research.google.com/assets/colab-badge.svg\" alt=\"Open In Colab\"/></a>"
      ]
    },
    {
      "cell_type": "code",
      "execution_count": 21,
      "metadata": {
        "id": "MPiH-bk6J_uR"
      },
      "outputs": [],
      "source": [
        "import pandas as pd\n",
        "import numpy as np\n",
        "import pickle\n",
        "import tensorflow as tf\n",
        "from tensorflow import keras\n",
        "from keras.utils import Sequence\n",
        "from keras.optimizers import SGD, Adam\n",
        "from keras.models import Sequential\n",
        "from keras.layers import Conv1D, MaxPooling1D, Flatten, Dense\n",
        "from sklearn.model_selection import train_test_split\n",
        "from keras.models import Model\n",
        "\n",
        "from collections import Counter\n",
        "from sklearn.utils import shuffle\n",
        "\n",
        "with open(\"bert-train.pkl\", mode=\"rb\") as f:\n",
        "      data = pickle.load(f)"
      ]
    },
    {
      "cell_type": "code",
      "source": [
        "type(data)"
      ],
      "metadata": {
        "colab": {
          "base_uri": "https://localhost:8080/"
        },
        "id": "AWAINtBhNI5g",
        "outputId": "a6ac16b9-dc5d-43a1-f4a2-2c4f0ee6c449"
      },
      "execution_count": 22,
      "outputs": [
        {
          "output_type": "execute_result",
          "data": {
            "text/plain": [
              "tuple"
            ]
          },
          "metadata": {},
          "execution_count": 22
        }
      ]
    },
    {
      "cell_type": "code",
      "source": [
        "data=list(data)"
      ],
      "metadata": {
        "id": "khhMxaXYNT4k"
      },
      "execution_count": 23,
      "outputs": []
    },
    {
      "cell_type": "code",
      "source": [
        "type(data)"
      ],
      "metadata": {
        "colab": {
          "base_uri": "https://localhost:8080/"
        },
        "id": "0wuUVugbNXzx",
        "outputId": "4a658ccc-84f2-4fbe-8adf-bd21c3ead4bb"
      },
      "execution_count": 24,
      "outputs": [
        {
          "output_type": "execute_result",
          "data": {
            "text/plain": [
              "list"
            ]
          },
          "metadata": {},
          "execution_count": 24
        }
      ]
    },
    {
      "cell_type": "code",
      "source": [
        "x = data[0]\n",
        "y = data[1]"
      ],
      "metadata": {
        "id": "AVcz6DhQOHjq"
      },
      "execution_count": 38,
      "outputs": []
    },
    {
      "cell_type": "code",
      "source": [
        "type(x)"
      ],
      "metadata": {
        "colab": {
          "base_uri": "https://localhost:8080/"
        },
        "id": "RB8gOme5WiiI",
        "outputId": "f64a492c-6f10-47f0-f4eb-504eb896be46"
      },
      "execution_count": 39,
      "outputs": [
        {
          "output_type": "execute_result",
          "data": {
            "text/plain": [
              "list"
            ]
          },
          "metadata": {},
          "execution_count": 39
        }
      ]
    },
    {
      "cell_type": "code",
      "source": [
        "X = x[:50000]\n",
        "Y = y[:50000]"
      ],
      "metadata": {
        "id": "82YKoz5mWovr"
      },
      "execution_count": 40,
      "outputs": []
    },
    {
      "cell_type": "code",
      "source": [
        "X = np.array(X)\n",
        "Y = np.array(Y)"
      ],
      "metadata": {
        "id": "gZSEO7zHWrpz"
      },
      "execution_count": 41,
      "outputs": []
    },
    {
      "cell_type": "code",
      "source": [
        "# Split the data into training and testing sets\n",
        "X_train, X_test, y_train, y_test = train_test_split(X, Y, test_size=0.2, random_state=42)"
      ],
      "metadata": {
        "id": "57lbD64YWwn9"
      },
      "execution_count": 42,
      "outputs": []
    },
    {
      "cell_type": "code",
      "source": [
        "# Define the CNN-based model\n",
        "model = Sequential()\n",
        "model.add(Conv1D(64, 3, activation='relu', input_shape=(20, 768)))\n",
        "model.add(MaxPooling1D(2))\n",
        "model.add(Conv1D(64, 3, activation='relu'))\n",
        "model.add(MaxPooling1D(2))\n",
        "model.add(Flatten())\n",
        "model.add(Dense(64, activation='relu'))\n",
        "model.add(Dense(1, activation='sigmoid'))\n",
        "\n",
        "# Compile the model\n",
        "model.compile(optimizer='adam', loss='binary_crossentropy', metrics=['accuracy'])\n",
        "\n",
        "# Train the model\n",
        "model.fit(X_train, y_train, batch_size=32, epochs=10, validation_data=(X_test, y_test))\n",
        "\n",
        "# Evaluate the model\n",
        "loss, accuracy = model.evaluate(X_test, y_test)\n",
        "print('Accuracy:', accuracy)"
      ],
      "metadata": {
        "colab": {
          "base_uri": "https://localhost:8080/"
        },
        "id": "EAk14Ie3WwiU",
        "outputId": "04650433-1d93-4354-936a-1cf3db727dce"
      },
      "execution_count": 43,
      "outputs": [
        {
          "output_type": "stream",
          "name": "stdout",
          "text": [
            "Epoch 1/10\n",
            "1250/1250 [==============================] - 31s 23ms/step - loss: 0.0270 - accuracy: 0.9920 - val_loss: 0.0084 - val_accuracy: 0.9981\n",
            "Epoch 2/10\n",
            "1250/1250 [==============================] - 30s 24ms/step - loss: 0.0117 - accuracy: 0.9976 - val_loss: 0.0079 - val_accuracy: 0.9979\n",
            "Epoch 3/10\n",
            "1250/1250 [==============================] - 27s 22ms/step - loss: 0.0086 - accuracy: 0.9983 - val_loss: 0.0081 - val_accuracy: 0.9983\n",
            "Epoch 4/10\n",
            "1250/1250 [==============================] - 27s 22ms/step - loss: 0.0083 - accuracy: 0.9984 - val_loss: 0.0092 - val_accuracy: 0.9982\n",
            "Epoch 5/10\n",
            "1250/1250 [==============================] - 28s 22ms/step - loss: 0.0073 - accuracy: 0.9985 - val_loss: 0.0077 - val_accuracy: 0.9984\n",
            "Epoch 6/10\n",
            "1250/1250 [==============================] - 27s 21ms/step - loss: 0.0068 - accuracy: 0.9987 - val_loss: 0.0088 - val_accuracy: 0.9984\n",
            "Epoch 7/10\n",
            "1250/1250 [==============================] - 26s 21ms/step - loss: 0.0069 - accuracy: 0.9986 - val_loss: 0.0077 - val_accuracy: 0.9986\n",
            "Epoch 8/10\n",
            "1250/1250 [==============================] - 26s 21ms/step - loss: 0.0070 - accuracy: 0.9987 - val_loss: 0.0139 - val_accuracy: 0.9982\n",
            "Epoch 9/10\n",
            "1250/1250 [==============================] - 26s 21ms/step - loss: 0.0058 - accuracy: 0.9988 - val_loss: 0.0329 - val_accuracy: 0.9951\n",
            "Epoch 10/10\n",
            "1250/1250 [==============================] - 27s 21ms/step - loss: 0.0067 - accuracy: 0.9987 - val_loss: 0.0089 - val_accuracy: 0.9983\n",
            "313/313 [==============================] - 3s 11ms/step - loss: 0.0089 - accuracy: 0.9983\n",
            "Accuracy: 0.9983000159263611\n"
          ]
        }
      ]
    }
  ]
}