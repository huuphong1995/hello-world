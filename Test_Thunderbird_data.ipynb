{
  "nbformat": 4,
  "nbformat_minor": 0,
  "metadata": {
    "colab": {
      "provenance": [],
      "authorship_tag": "ABX9TyP141alD0WKdgJkww4yQRai",
      "include_colab_link": true
    },
    "kernelspec": {
      "name": "python3",
      "display_name": "Python 3"
    },
    "language_info": {
      "name": "python"
    }
  },
  "cells": [
    {
      "cell_type": "markdown",
      "metadata": {
        "id": "view-in-github",
        "colab_type": "text"
      },
      "source": [
        "<a href=\"https://colab.research.google.com/github/huuphong1995/hello-world/blob/master/Test_Thunderbird_data.ipynb\" target=\"_parent\"><img src=\"https://colab.research.google.com/assets/colab-badge.svg\" alt=\"Open In Colab\"/></a>"
      ]
    },
    {
      "cell_type": "code",
      "execution_count": 1,
      "metadata": {
        "id": "a1wxXw80Yx70"
      },
      "outputs": [],
      "source": [
        "import pandas as pd\n",
        "import numpy as np\n",
        "import pickle\n",
        "import tensorflow as tf\n",
        "from tensorflow import keras\n",
        "from keras.utils import Sequence\n",
        "from keras.optimizers import SGD, Adam\n",
        "from keras.models import Sequential\n",
        "from keras.layers import Conv1D, MaxPooling1D, Flatten, Dense\n",
        "from sklearn.model_selection import train_test_split\n",
        "from keras.models import Model\n",
        "\n",
        "from collections import Counter\n",
        "from sklearn.utils import shuffle\n",
        "\n",
        "with open(\"bert-train.pkl\", mode=\"rb\") as f:\n",
        "      data = pickle.load(f)"
      ]
    },
    {
      "cell_type": "code",
      "source": [
        "type(data)"
      ],
      "metadata": {
        "colab": {
          "base_uri": "https://localhost:8080/"
        },
        "id": "1LaZm3k9ZhG8",
        "outputId": "c690f904-28ed-45dc-d439-e4ed56c570bd"
      },
      "execution_count": 2,
      "outputs": [
        {
          "output_type": "execute_result",
          "data": {
            "text/plain": [
              "tuple"
            ]
          },
          "metadata": {},
          "execution_count": 2
        }
      ]
    },
    {
      "cell_type": "code",
      "source": [
        "data=list(data)"
      ],
      "metadata": {
        "id": "b2ox0ggdZmLl"
      },
      "execution_count": 3,
      "outputs": []
    },
    {
      "cell_type": "code",
      "source": [
        "x = data[0]\n",
        "y = data[1]"
      ],
      "metadata": {
        "id": "GwtCuqEIZpQk"
      },
      "execution_count": 4,
      "outputs": []
    },
    {
      "cell_type": "code",
      "source": [
        "X = x[:50000]\n",
        "Y = y[:50000]"
      ],
      "metadata": {
        "id": "u9qVuZxMZrX7"
      },
      "execution_count": 5,
      "outputs": []
    },
    {
      "cell_type": "code",
      "source": [
        "X = np.array(X)\n",
        "Y = np.array(Y)"
      ],
      "metadata": {
        "id": "111eyz9VZtqq"
      },
      "execution_count": 6,
      "outputs": []
    },
    {
      "cell_type": "code",
      "source": [
        "# Split the data into training and testing sets\n",
        "X_train, X_test, y_train, y_test = train_test_split(X, Y, test_size=0.2, random_state=42)"
      ],
      "metadata": {
        "id": "0SLQIVyrZx17"
      },
      "execution_count": 7,
      "outputs": []
    },
    {
      "cell_type": "code",
      "source": [
        "# Define the CNN-based model\n",
        "model = Sequential()\n",
        "model.add(Conv1D(64, 3, activation='relu', input_shape=(20, 768)))\n",
        "model.add(MaxPooling1D(2))\n",
        "model.add(Conv1D(64, 3, activation='relu'))\n",
        "model.add(MaxPooling1D(2))\n",
        "model.add(Flatten())\n",
        "model.add(Dense(64, activation='relu'))\n",
        "model.add(Dense(1, activation='sigmoid'))\n",
        "\n",
        "# Compile the model\n",
        "model.compile(optimizer='adam', loss='binary_crossentropy', metrics=['accuracy'])\n",
        "\n",
        "# Train the model\n",
        "model.fit(X_train, y_train, batch_size=32, epochs=10, validation_data=(X_test, y_test))\n",
        "\n",
        "# Evaluate the model\n",
        "loss, accuracy = model.evaluate(X_test, y_test)\n",
        "print('Accuracy:', accuracy)"
      ],
      "metadata": {
        "colab": {
          "base_uri": "https://localhost:8080/"
        },
        "id": "bwafafp6Z0ZD",
        "outputId": "300b645b-ed64-4e5d-adaa-c4da814497ed"
      },
      "execution_count": 8,
      "outputs": [
        {
          "output_type": "stream",
          "name": "stdout",
          "text": [
            "Epoch 1/10\n",
            "1250/1250 [==============================] - 34s 25ms/step - loss: 0.0238 - accuracy: 0.9964 - val_loss: 0.0141 - val_accuracy: 0.9979\n",
            "Epoch 2/10\n",
            "1250/1250 [==============================] - 28s 23ms/step - loss: 0.0123 - accuracy: 0.9976 - val_loss: 0.0093 - val_accuracy: 0.9977\n",
            "Epoch 3/10\n",
            "1250/1250 [==============================] - 28s 23ms/step - loss: 0.0065 - accuracy: 0.9985 - val_loss: 0.0035 - val_accuracy: 0.9991\n",
            "Epoch 4/10\n",
            "1250/1250 [==============================] - 33s 26ms/step - loss: 0.0054 - accuracy: 0.9989 - val_loss: 0.0038 - val_accuracy: 0.9990\n",
            "Epoch 5/10\n",
            "1250/1250 [==============================] - 28s 23ms/step - loss: 0.0040 - accuracy: 0.9992 - val_loss: 0.0065 - val_accuracy: 0.9987\n",
            "Epoch 6/10\n",
            "1250/1250 [==============================] - 28s 22ms/step - loss: 0.0030 - accuracy: 0.9994 - val_loss: 0.0038 - val_accuracy: 0.9993\n",
            "Epoch 7/10\n",
            "1250/1250 [==============================] - 31s 24ms/step - loss: 0.0032 - accuracy: 0.9992 - val_loss: 0.0032 - val_accuracy: 0.9992\n",
            "Epoch 8/10\n",
            "1250/1250 [==============================] - 27s 22ms/step - loss: 0.0020 - accuracy: 0.9996 - val_loss: 0.0030 - val_accuracy: 0.9996\n",
            "Epoch 9/10\n",
            "1250/1250 [==============================] - 27s 21ms/step - loss: 0.0022 - accuracy: 0.9997 - val_loss: 0.0036 - val_accuracy: 0.9991\n",
            "Epoch 10/10\n",
            "1250/1250 [==============================] - 27s 22ms/step - loss: 0.0020 - accuracy: 0.9995 - val_loss: 0.0024 - val_accuracy: 0.9997\n",
            "313/313 [==============================] - 4s 12ms/step - loss: 0.0024 - accuracy: 0.9997\n",
            "Accuracy: 0.9997000098228455\n"
          ]
        }
      ]
    }
  ]
}