{
  "nbformat": 4,
  "nbformat_minor": 0,
  "metadata": {
    "colab": {
      "provenance": [],
      "authorship_tag": "ABX9TyOjDPW/+nJsw27fAktPyFgr",
      "include_colab_link": true
    },
    "kernelspec": {
      "name": "python3",
      "display_name": "Python 3"
    },
    "language_info": {
      "name": "python"
    }
  },
  "cells": [
    {
      "cell_type": "markdown",
      "metadata": {
        "id": "view-in-github",
        "colab_type": "text"
      },
      "source": [
        "<a href=\"https://colab.research.google.com/github/huuphong1995/hello-world/blob/master/Test_BGL.ipynb\" target=\"_parent\"><img src=\"https://colab.research.google.com/assets/colab-badge.svg\" alt=\"Open In Colab\"/></a>"
      ]
    },
    {
      "cell_type": "code",
      "source": [
        "\n",
        "import pickle\n",
        "with open('BGL-train.pkl', 'rb') as f:\n",
        "    data = pickle.load(f)"
      ],
      "metadata": {
        "id": "bEFiXqbIKiUJ"
      },
      "execution_count": 2,
      "outputs": []
    },
    {
      "cell_type": "code",
      "source": [
        "x_tr = data['x_tr']\n",
        "y_tr = data['y_tr']"
      ],
      "metadata": {
        "id": "7mbwAvlAKsqN"
      },
      "execution_count": 3,
      "outputs": []
    },
    {
      "cell_type": "code",
      "source": [
        "# Separate the anomaly and normal instances in the training set\n",
        "anomalies_tr = [x for x, y in zip(x_tr, y_tr) if y == 1]\n",
        "normal_tr = [x for x, y in zip(x_tr, y_tr) if y == 0]"
      ],
      "metadata": {
        "id": "dr-aH2u0FdZx"
      },
      "execution_count": 4,
      "outputs": []
    },
    {
      "cell_type": "code",
      "source": [
        "import random\n",
        "# Randomly sample equal number of anomalies and normal instances\n",
        "num_samples_tr = min(len(anomalies_tr), len(normal_tr))\n",
        "sampled_anomalies_tr = random.sample(anomalies_tr, num_samples_tr)\n",
        "sampled_normal_tr = random.sample(normal_tr, num_samples_tr)"
      ],
      "metadata": {
        "id": "UalG4TAgFsvk"
      },
      "execution_count": 5,
      "outputs": []
    },
    {
      "cell_type": "code",
      "source": [
        "# Combine the sampled anomalies and normal instances for the balanced training set\n",
        "x_tr_balanced = sampled_anomalies_tr + sampled_normal_tr\n",
        "y_tr_balanced = [1] * num_samples_tr + [0] * num_samples_tr"
      ],
      "metadata": {
        "id": "J6MtbuCHF6qA"
      },
      "execution_count": 6,
      "outputs": []
    },
    {
      "cell_type": "code",
      "source": [
        "from sklearn.utils import shuffle\n",
        "x_tr_balanced, y_tr_balanced = shuffle(x_tr_balanced, y_tr_balanced)"
      ],
      "metadata": {
        "id": "VtfgLqKiGTbx"
      },
      "execution_count": 7,
      "outputs": []
    },
    {
      "cell_type": "code",
      "source": [
        "len(x_tr_balanced) - len(y_tr_balanced)"
      ],
      "metadata": {
        "colab": {
          "base_uri": "https://localhost:8080/"
        },
        "id": "eRMJ-cAiGfFC",
        "outputId": "888d0c44-942d-449e-f65f-3b5433ad5308"
      },
      "execution_count": 8,
      "outputs": [
        {
          "output_type": "execute_result",
          "data": {
            "text/plain": [
              "0"
            ]
          },
          "metadata": {},
          "execution_count": 8
        }
      ]
    },
    {
      "cell_type": "code",
      "source": [
        "import numpy as np\n",
        "x_tr_balanced = np.array(x_tr_balanced)\n",
        "y_tr_balanced = np.array(y_tr_balanced)"
      ],
      "metadata": {
        "id": "287c-P_sHEI1"
      },
      "execution_count": 12,
      "outputs": []
    },
    {
      "cell_type": "code",
      "source": [
        "import tensorflow as tf\n",
        "from tensorflow import keras\n",
        "from keras.utils import Sequence\n",
        "from keras.optimizers import SGD, Adam\n",
        "from keras.models import Sequential\n",
        "from keras.layers import Conv1D, MaxPooling1D, Flatten, Dense\n",
        "# Define the CNN-based model\n",
        "model = Sequential()\n",
        "model.add(Conv1D(64, 3, activation='relu', input_shape=(20, 768)))\n",
        "model.add(MaxPooling1D(2))\n",
        "model.add(Conv1D(64, 3, activation='relu'))\n",
        "model.add(MaxPooling1D(2))\n",
        "model.add(Flatten())\n",
        "model.add(Dense(64, activation='relu'))\n",
        "model.add(Dense(1, activation='sigmoid'))\n",
        "\n",
        "# Compile the model\n",
        "model.compile(optimizer='adam', loss='binary_crossentropy', metrics=['accuracy'])\n",
        "\n",
        "# Train the model\n",
        "model.fit(x_tr_balanced, y_tr_balanced, batch_size=32, epochs=10)\n"
      ],
      "metadata": {
        "colab": {
          "base_uri": "https://localhost:8080/"
        },
        "id": "D9nheUCfHfdA",
        "outputId": "8335e696-73d5-4ca0-cefc-a7228bc3c82d"
      },
      "execution_count": 13,
      "outputs": [
        {
          "output_type": "stream",
          "name": "stdout",
          "text": [
            "Epoch 1/10\n",
            "1079/1079 [==============================] - 25s 22ms/step - loss: 0.0702 - accuracy: 0.9777\n",
            "Epoch 2/10\n",
            "1079/1079 [==============================] - 23s 22ms/step - loss: 0.0268 - accuracy: 0.9933\n",
            "Epoch 3/10\n",
            "1079/1079 [==============================] - 24s 22ms/step - loss: 0.0219 - accuracy: 0.9949\n",
            "Epoch 4/10\n",
            "1079/1079 [==============================] - 22s 20ms/step - loss: 0.0208 - accuracy: 0.9954\n",
            "Epoch 5/10\n",
            "1079/1079 [==============================] - 22s 20ms/step - loss: 0.0177 - accuracy: 0.9964\n",
            "Epoch 6/10\n",
            "1079/1079 [==============================] - 21s 19ms/step - loss: 0.0180 - accuracy: 0.9963\n",
            "Epoch 7/10\n",
            "1079/1079 [==============================] - 22s 20ms/step - loss: 0.0171 - accuracy: 0.9970\n",
            "Epoch 8/10\n",
            "1079/1079 [==============================] - 22s 20ms/step - loss: 0.0173 - accuracy: 0.9966\n",
            "Epoch 9/10\n",
            "1079/1079 [==============================] - 21s 19ms/step - loss: 0.0167 - accuracy: 0.9968\n",
            "Epoch 10/10\n",
            "1079/1079 [==============================] - 22s 20ms/step - loss: 0.0159 - accuracy: 0.9973\n"
          ]
        },
        {
          "output_type": "execute_result",
          "data": {
            "text/plain": [
              "<keras.callbacks.History at 0x7ff0b0fd5a20>"
            ]
          },
          "metadata": {},
          "execution_count": 13
        }
      ]
    },
    {
      "cell_type": "markdown",
      "source": [
        "###Test the model with the testing set\n"
      ],
      "metadata": {
        "id": "PP14TxaJJNJa"
      }
    },
    {
      "cell_type": "code",
      "source": [
        "\n",
        "with open('BGL-test.pkl', 'rb') as f:\n",
        "    data1 = pickle.load(f)"
      ],
      "metadata": {
        "id": "q3ZtJ3SzEYNi"
      },
      "execution_count": 14,
      "outputs": []
    },
    {
      "cell_type": "code",
      "source": [
        "x_te = data1['x_te']\n",
        "y_te = data1['y_te']"
      ],
      "metadata": {
        "id": "yWfydLvZK0Z7"
      },
      "execution_count": 15,
      "outputs": []
    },
    {
      "cell_type": "code",
      "source": [
        "# Separate the anomaly and normal instances in the testing set\n",
        "anomalies_te = [x for x, y in zip(x_te, y_te) if y == 1]\n",
        "normal_te = [x for x, y in zip(x_te, y_te) if y == 0]\n",
        "\n",
        "# Randomly sample equal number of anomalies and normal instances for testing\n",
        "num_samples_te = min(len(anomalies_te), len(normal_te))\n",
        "sampled_anomalies_te = random.sample(anomalies_te, num_samples_te)\n",
        "sampled_normal_te = random.sample(normal_te, num_samples_te)\n",
        "\n",
        "# Combine the sampled anomalies and normal instances for the balanced testing set\n",
        "x_te_balanced = sampled_anomalies_te + sampled_normal_te\n",
        "y_te_balanced = [1] * num_samples_te + [0] * num_samples_te"
      ],
      "metadata": {
        "id": "iqtkmUJKJy44"
      },
      "execution_count": 16,
      "outputs": []
    },
    {
      "cell_type": "code",
      "source": [
        "x_te_balanced, y_te_balanced = shuffle(x_te_balanced, y_te_balanced)"
      ],
      "metadata": {
        "id": "-4z00LueJ3Mh"
      },
      "execution_count": 17,
      "outputs": []
    },
    {
      "cell_type": "code",
      "source": [
        "x_te_balanced = np.array(x_te_balanced)\n",
        "y_te_balanced = np.array(y_te_balanced)"
      ],
      "metadata": {
        "id": "FLSiEoljK7T5"
      },
      "execution_count": 18,
      "outputs": []
    },
    {
      "cell_type": "code",
      "source": [
        "# Evaluate the model\n",
        "loss, accuracy = model.evaluate(x_te_balanced, y_te_balanced)\n",
        "print('Accuracy:', accuracy)"
      ],
      "metadata": {
        "id": "8N9fV9t-LB40",
        "colab": {
          "base_uri": "https://localhost:8080/"
        },
        "outputId": "8743d58b-04d0-494b-aa67-6efb31680ad2"
      },
      "execution_count": 19,
      "outputs": [
        {
          "output_type": "stream",
          "name": "stdout",
          "text": [
            "188/188 [==============================] - 2s 8ms/step - loss: 0.0947 - accuracy: 0.9795\n",
            "Accuracy: 0.9795272946357727\n"
          ]
        }
      ]
    },
    {
      "cell_type": "code",
      "source": [
        "import numpy as np\n",
        "from sklearn.metrics import f1_score, recall_score, precision_score\n",
        "\n",
        "# Make predictions on the balanced testing set\n",
        "y_pred_prob = model.predict(x_te_balanced)\n",
        "y_pred = np.round(y_pred_prob).astype(int)\n",
        "\n",
        "# Calculate the F1-score\n",
        "f1 = f1_score(y_te_balanced, y_pred)\n",
        "print('F1-score:', f1)\n",
        "\n",
        "# Calculate the recall\n",
        "recall = recall_score(y_te_balanced, y_pred)\n",
        "print('Recall:', recall)\n"
      ],
      "metadata": {
        "colab": {
          "base_uri": "https://localhost:8080/"
        },
        "id": "9ZqVT8sBQaPi",
        "outputId": "b87cc149-126e-47c2-e3c7-607c1d4fd7a4"
      },
      "execution_count": 47,
      "outputs": [
        {
          "output_type": "stream",
          "name": "stdout",
          "text": [
            "188/188 [==============================] - 1s 8ms/step\n",
            "F1-score: 0.9791419365779209\n",
            "Recall: 0.961051930758988\n"
          ]
        }
      ]
    },
    {
      "cell_type": "code",
      "source": [
        "from sklearn.metrics import precision_score\n",
        "# Calculate the precision\n",
        "precision = precision_score(y_te_balanced, y_pred)\n",
        "print('Precision:', precision)"
      ],
      "metadata": {
        "colab": {
          "base_uri": "https://localhost:8080/"
        },
        "id": "GMMq8qUgSs3O",
        "outputId": "5089590b-6426-46dd-9f8b-4a37133a2a87"
      },
      "execution_count": 53,
      "outputs": [
        {
          "output_type": "stream",
          "name": "stdout",
          "text": [
            "Precision: 0.9979260283442793\n"
          ]
        }
      ]
    },
    {
      "cell_type": "code",
      "source": [
        "len([x for x in y_te_balanced if x==0])"
      ],
      "metadata": {
        "colab": {
          "base_uri": "https://localhost:8080/"
        },
        "id": "r2T2waEtK4OH",
        "outputId": "930a7f2d-cb44-4afe-a3d3-52f12ea29028"
      },
      "execution_count": 48,
      "outputs": [
        {
          "output_type": "execute_result",
          "data": {
            "text/plain": [
              "3004"
            ]
          },
          "metadata": {},
          "execution_count": 48
        }
      ]
    },
    {
      "cell_type": "code",
      "source": [
        "# Calculate Recall and F1-score\n",
        "def calculate_metrics(y_true, y_pred):\n",
        "    TP = sum((y_true == 1) & (y_pred == 1))\n",
        "    FP = sum((y_true == 0) & (y_pred == 1))\n",
        "    FN = sum((y_true == 1) & (y_pred == 0))\n",
        "\n",
        "    recall = TP / (TP + FN)\n",
        "    precision = TP / (TP + FP)\n",
        "    f1_score = 2 * (precision * recall) / (precision + recall)\n",
        "\n",
        "    return recall, f1_score"
      ],
      "metadata": {
        "id": "gqhvymV-Mabr"
      },
      "execution_count": 49,
      "outputs": []
    },
    {
      "cell_type": "code",
      "source": [
        "type(y_pred)"
      ],
      "metadata": {
        "colab": {
          "base_uri": "https://localhost:8080/"
        },
        "id": "-yA0rpmrQ9l7",
        "outputId": "f7cf4192-d641-4169-9b63-1a0c26fc3fc0"
      },
      "execution_count": 50,
      "outputs": [
        {
          "output_type": "execute_result",
          "data": {
            "text/plain": [
              "numpy.ndarray"
            ]
          },
          "metadata": {},
          "execution_count": 50
        }
      ]
    },
    {
      "cell_type": "code",
      "source": [
        "type(y_pred[1])"
      ],
      "metadata": {
        "colab": {
          "base_uri": "https://localhost:8080/"
        },
        "id": "LZBXScyaRBvo",
        "outputId": "71408f5a-2ce5-4631-ef33-9541f115ca5d"
      },
      "execution_count": 51,
      "outputs": [
        {
          "output_type": "execute_result",
          "data": {
            "text/plain": [
              "numpy.ndarray"
            ]
          },
          "metadata": {},
          "execution_count": 51
        }
      ]
    }
  ]
}