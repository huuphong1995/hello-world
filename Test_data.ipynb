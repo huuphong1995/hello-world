{
  "nbformat": 4,
  "nbformat_minor": 0,
  "metadata": {
    "colab": {
      "provenance": [],
      "authorship_tag": "ABX9TyMP6NlPKUguez5YbTY4Nxa4",
      "include_colab_link": true
    },
    "kernelspec": {
      "name": "python3",
      "display_name": "Python 3"
    },
    "language_info": {
      "name": "python"
    }
  },
  "cells": [
    {
      "cell_type": "markdown",
      "metadata": {
        "id": "view-in-github",
        "colab_type": "text"
      },
      "source": [
        "<a href=\"https://colab.research.google.com/github/huuphong1995/hello-world/blob/master/Test_data.ipynb\" target=\"_parent\"><img src=\"https://colab.research.google.com/assets/colab-badge.svg\" alt=\"Open In Colab\"/></a>"
      ]
    },
    {
      "cell_type": "code",
      "execution_count": 1,
      "metadata": {
        "id": "xcd0C_J6DaRM"
      },
      "outputs": [],
      "source": [
        "import pandas as pd\n",
        "import numpy as np\n",
        "import pickle\n",
        "import tensorflow as tf\n",
        "from tensorflow import keras\n",
        "from keras.utils import Sequence\n",
        "from keras.optimizers import SGD, Adam\n",
        "from keras.models import Sequential\n",
        "from keras.layers import Conv1D, MaxPooling1D, Flatten, Dense\n",
        "from sklearn.model_selection import train_test_split\n",
        "from keras.models import Model\n",
        "\n",
        "from collections import Counter\n",
        "from sklearn.utils import shuffle\n",
        "\n",
        "with open(\"neural-train.pkl\", mode=\"rb\") as f:\n",
        "    (x_tr, y_tr) = pickle.load(f)\n",
        "    x_tr, y_tr = shuffle(x_tr, y_tr)"
      ]
    },
    {
      "cell_type": "code",
      "source": [
        "X = x_tr[:50000]\n",
        "Y = y_tr[:50000]"
      ],
      "metadata": {
        "id": "1HMpbU6jF_J9"
      },
      "execution_count": 4,
      "outputs": []
    },
    {
      "cell_type": "code",
      "source": [
        "X = np.array(X)\n",
        "Y = np.array(Y)"
      ],
      "metadata": {
        "id": "kccvuriMEZk7"
      },
      "execution_count": 5,
      "outputs": []
    },
    {
      "cell_type": "code",
      "source": [
        "# Split the data into training and testing sets\n",
        "X_train, X_test, y_train, y_test = train_test_split(X, Y, test_size=0.2, random_state=42)"
      ],
      "metadata": {
        "id": "BMdBHtFXEsvk"
      },
      "execution_count": 7,
      "outputs": []
    },
    {
      "cell_type": "code",
      "source": [
        "X_train = np.array(X_train)\n",
        "X_test = np.array(X_test)\n",
        "y_train = np.array(y_train)\n",
        "y_test = np.array(y_test)"
      ],
      "metadata": {
        "id": "Wy6HhZ0nFNWp"
      },
      "execution_count": 3,
      "outputs": []
    },
    {
      "cell_type": "code",
      "source": [
        "# Define the CNN-based model\n",
        "model = Sequential()\n",
        "model.add(Conv1D(64, 3, activation='relu', input_shape=(20, 768)))\n",
        "model.add(MaxPooling1D(2))\n",
        "model.add(Conv1D(64, 3, activation='relu'))\n",
        "model.add(MaxPooling1D(2))\n",
        "model.add(Flatten())\n",
        "model.add(Dense(64, activation='relu'))\n",
        "model.add(Dense(1, activation='sigmoid'))\n",
        "\n",
        "# Compile the model\n",
        "model.compile(optimizer='adam', loss='binary_crossentropy', metrics=['accuracy'])\n",
        "\n",
        "# Train the model\n",
        "model.fit(X_train, y_train, batch_size=32, epochs=10, validation_data=(X_test, y_test))\n",
        "\n",
        "# Evaluate the model\n",
        "loss, accuracy = model.evaluate(X_test, y_test)\n",
        "print('Accuracy:', accuracy)"
      ],
      "metadata": {
        "colab": {
          "base_uri": "https://localhost:8080/"
        },
        "id": "691f-YSmFnMG",
        "outputId": "1badba37-1e0b-4d3e-82be-7b7a76276276"
      },
      "execution_count": 8,
      "outputs": [
        {
          "output_type": "stream",
          "name": "stdout",
          "text": [
            "Epoch 1/10\n",
            "1250/1250 [==============================] - 33s 25ms/step - loss: 0.0760 - accuracy: 0.9768 - val_loss: 0.0368 - val_accuracy: 0.9912\n",
            "Epoch 2/10\n",
            "1250/1250 [==============================] - 31s 25ms/step - loss: 0.0238 - accuracy: 0.9946 - val_loss: 0.0172 - val_accuracy: 0.9961\n",
            "Epoch 3/10\n",
            "1250/1250 [==============================] - 28s 23ms/step - loss: 0.0190 - accuracy: 0.9959 - val_loss: 0.0190 - val_accuracy: 0.9958\n",
            "Epoch 4/10\n",
            "1250/1250 [==============================] - 27s 22ms/step - loss: 0.0167 - accuracy: 0.9966 - val_loss: 0.0183 - val_accuracy: 0.9962\n",
            "Epoch 5/10\n",
            "1250/1250 [==============================] - 26s 21ms/step - loss: 0.0150 - accuracy: 0.9969 - val_loss: 0.0127 - val_accuracy: 0.9980\n",
            "Epoch 6/10\n",
            "1250/1250 [==============================] - 26s 21ms/step - loss: 0.0151 - accuracy: 0.9971 - val_loss: 0.0148 - val_accuracy: 0.9971\n",
            "Epoch 7/10\n",
            "1250/1250 [==============================] - 26s 21ms/step - loss: 0.0149 - accuracy: 0.9966 - val_loss: 0.0137 - val_accuracy: 0.9972\n",
            "Epoch 8/10\n",
            "1250/1250 [==============================] - 27s 22ms/step - loss: 0.0125 - accuracy: 0.9977 - val_loss: 0.0172 - val_accuracy: 0.9964\n",
            "Epoch 9/10\n",
            "1250/1250 [==============================] - 27s 22ms/step - loss: 0.0125 - accuracy: 0.9973 - val_loss: 0.0157 - val_accuracy: 0.9962\n",
            "Epoch 10/10\n",
            "1250/1250 [==============================] - 27s 22ms/step - loss: 0.0127 - accuracy: 0.9973 - val_loss: 0.0131 - val_accuracy: 0.9976\n",
            "313/313 [==============================] - 2s 8ms/step - loss: 0.0131 - accuracy: 0.9976\n",
            "Accuracy: 0.9976000189781189\n"
          ]
        }
      ]
    }
  ]
}